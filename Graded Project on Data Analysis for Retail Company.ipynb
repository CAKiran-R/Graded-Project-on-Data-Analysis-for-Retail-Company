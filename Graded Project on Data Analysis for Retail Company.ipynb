{
 "cells": [
  {
   "cell_type": "code",
   "execution_count": 1,
   "id": "064b2a24-8d7d-4b08-bfec-538421978a73",
   "metadata": {},
   "outputs": [],
   "source": [
    "#Task 1 Sales Data Summary"
   ]
  },
  {
   "cell_type": "code",
   "execution_count": 31,
   "id": "702a9768-5da6-4355-a7c1-8a9ae428bf42",
   "metadata": {},
   "outputs": [
    {
     "name": "stdout",
     "output_type": "stream",
     "text": [
      "{'Category_A': 150, 'Category_B': 120}\n",
      "Total Units Sold= 270\n",
      "Difference Between Categories= 30\n",
      "Ratio of Category A to Category B= 1.25\n"
     ]
    }
   ],
   "source": [
    "#Assignining number of units sold in two categories, `Category A` and `Category B` and stored it in a dictionary.\n",
    "Sales_Data_Summary={\"Category_A\":150,\"Category_B\":120}\n",
    "\n",
    "#Calculation of Total units Sold\n",
    "Total=Sales_Data_Summary[\"Category_A\"]+Sales_Data_Summary[\"Category_B\"]\n",
    "\n",
    "#Calculation of difference between the categories\n",
    "Difference=Sales_Data_Summary[\"Category_A\"]-Sales_Data_Summary[\"Category_B\"]\n",
    "\n",
    "#Calculation of ratio of units sold\n",
    "Ratio=Sales_Data_Summary[\"Category_A\"]/Sales_Data_Summary[\"Category_B\"]\n",
    "\n",
    "#Printing the Data\n",
    "print(Sales_Data_Summary)\n",
    "print(\"Total Units Sold=\",Total)\n",
    "print(\"Difference Between Categories=\",Difference)\n",
    "print(\"Ratio of Category A to Category B=\",Ratio)"
   ]
  },
  {
   "cell_type": "code",
   "execution_count": 29,
   "id": "ed5de5aa-634b-4b05-a40d-be90585f1bfd",
   "metadata": {},
   "outputs": [],
   "source": [
    "#Task 2 Customer Age Data"
   ]
  },
  {
   "cell_type": "code",
   "execution_count": 37,
   "id": "bcf4263d-8828-4e7a-9a68-ff352fa2b89c",
   "metadata": {},
   "outputs": [
    {
     "name": "stdin",
     "output_type": "stream",
     "text": [
      "Please provide your full name Kiran R\n",
      "Please provide your age 25\n"
     ]
    },
    {
     "name": "stdout",
     "output_type": "stream",
     "text": [
      "Dear Kiran R, at 25, you’re eligible for our premium loyalty program.\n"
     ]
    }
   ],
   "source": [
    "#Storing a customer's name and age\n",
    "Customer_Name=input('Please provide your full name')\n",
    "Age=int(input('Please provide your age'))\n",
    "\n",
    "#Converting the age into a string and creating a personalized marketing message\n",
    "print( f\"Dear {Customer_Name}, at {Age}, you’re eligible for our premium loyalty program.\")"
   ]
  },
  {
   "cell_type": "code",
   "execution_count": 35,
   "id": "1b9b3235-da38-4085-9170-bc0b94ce9476",
   "metadata": {},
   "outputs": [],
   "source": [
    "#Task 3 Product List Management"
   ]
  },
  {
   "cell_type": "code",
   "execution_count": 65,
   "id": "0af4b41b-981f-43ad-93d9-589681aab1f5",
   "metadata": {},
   "outputs": [
    {
     "name": "stdout",
     "output_type": "stream",
     "text": [
      "200\n",
      "30\n",
      "[50, 120, 90, 150, 180]\n",
      "[50, 120, 30, 200, 90, 150, 180, 250]\n"
     ]
    }
   ],
   "source": [
    "#list of product prices\n",
    "product_prices= [50, 120, 30, 200, 90, 150, 180]\n",
    "\n",
    "#extracting the highest and lowest prices\n",
    "from functools import reduce\n",
    "Highest_Price=reduce(lambda i,j:i if i>j else j,product_prices)\n",
    "Lowest_Price=reduce(lambda i,j:i if i<j else j,product_prices)\n",
    "print(Highest_Price)\n",
    "print(Lowest_Price)\n",
    "\n",
    "#Create a new list with the mid-range products\n",
    "Mid_Prod=list(filter(lambda i:i!=Highest_Price and i!=Lowest_Price,product_prices))\n",
    "print(Mid_Prod)\n",
    "\n",
    "#Adding a new premium product price\n",
    "premium_product_price= 250\n",
    "product_prices.append(premium_product_price)\n",
    "print(product_prices)"
   ]
  },
  {
   "cell_type": "code",
   "execution_count": 69,
   "id": "d30b39f9-182b-4981-8cb7-0c4dc4db83cb",
   "metadata": {},
   "outputs": [],
   "source": [
    " #Task 4: Inventory Lookup"
   ]
  },
  {
   "cell_type": "code",
   "execution_count": 77,
   "id": "ce8ad918-32f9-496c-8422-1951c31fea34",
   "metadata": {},
   "outputs": [
    {
     "name": "stdout",
     "output_type": "stream",
     "text": [
      "Product name :Wireless Mouse\n",
      "SKU :WM-12345\n"
     ]
    }
   ],
   "source": [
    "#Creating a dictionary storing key information about a product\n",
    "product_info = {\"Product_name\": \"Wireless Mouse\", \"SKU\": \"WM-12345\", \"Price\": 500, \"Category\": \"Electronics\"}\n",
    "\n",
    "#Printing the product name and SKU when queried by a customer service representative.\n",
    "Prod_name=product_info[\"Product_name\"]\n",
    "SKU=product_info[\"SKU\"]\n",
    "print(f\"Product name :{Prod_name}\")\n",
    "print(f\"SKU :{SKU}\")\n"
   ]
  },
  {
   "cell_type": "code",
   "execution_count": 79,
   "id": "c437621e-7e82-4aff-b6d2-c3d6609bf8d2",
   "metadata": {},
   "outputs": [],
   "source": [
    "#Task 5: Stock Level Alert System"
   ]
  },
  {
   "cell_type": "code",
   "execution_count": 87,
   "id": "cd295d11-5387-4b00-a9c2-808e1c4f9e61",
   "metadata": {},
   "outputs": [
    {
     "name": "stdin",
     "output_type": "stream",
     "text": [
      "Please provide Stock level 150\n"
     ]
    },
    {
     "name": "stdout",
     "output_type": "stream",
     "text": [
      "Stock is sufficient.\n"
     ]
    }
   ],
   "source": [
    "#Writing the code that takes the stock level as input.\n",
    "Stock_Lvl=int(input('Please provide Stock level'))\n",
    "#Printing Stock level alert\n",
    "Threshold=50\n",
    "if Stock_Lvl>Threshold:\n",
    "    print(\"Stock is sufficient.\")\n",
    "else:\n",
    "    print(\"Reorder Now\")"
   ]
  },
  {
   "cell_type": "code",
   "execution_count": 89,
   "id": "01a0ea47-ef69-49ae-a82e-348a713039c7",
   "metadata": {},
   "outputs": [],
   "source": [
    "#Task 6: Sales Report Formatting"
   ]
  },
  {
   "cell_type": "code",
   "execution_count": 93,
   "id": "a5caacb3-ba33-469c-8856-afff2d2a482e",
   "metadata": {},
   "outputs": [
    {
     "name": "stdout",
     "output_type": "stream",
     "text": [
      "LAPTOP\n",
      "MOUSE\n",
      "KEYBOARD\n",
      "MONITOR\n",
      "PRINTER\n"
     ]
    }
   ],
   "source": [
    "#List of product sold\n",
    "Products_sold= [\"laptop\", \"mouse\", \"keyboard\", \"monitor\", \"printer\"]\n",
    "#implementing a for loop to change all the products to upper case\n",
    "for i in Products_sold:\n",
    "    print(i.upper())"
   ]
  },
  {
   "cell_type": "code",
   "execution_count": 113,
   "id": "99dea80c-3a40-4748-881a-b79e743998ef",
   "metadata": {},
   "outputs": [
    {
     "name": "stdout",
     "output_type": "stream",
     "text": [
      "LAPTOP\n",
      "MOUSE\n",
      "KEYBOARD\n",
      "MONITOR\n",
      "PRINTER\n"
     ]
    }
   ],
   "source": [
    "Products_sold= [\"laptop\", \"mouse\", \"keyboard\", \"monitor\", \"printer\"]\n",
    "#implementing a \"while\" loop to change all the products to upper case using indexing\n",
    "i=0\n",
    "while i < len(Products_sold):\n",
    "    print(Products_sold[i].upper())\n",
    "    i+=1\n",
    "    "
   ]
  },
  {
   "cell_type": "code",
   "execution_count": 115,
   "id": "e588ab02-4ce4-44ca-a3c0-330619face1e",
   "metadata": {},
   "outputs": [],
   "source": [
    "#Task 7: Area Calculation for Store Layout"
   ]
  },
  {
   "cell_type": "code",
   "execution_count": 129,
   "id": "e9e70903-51d2-4eaa-abf7-42de723be9a2",
   "metadata": {},
   "outputs": [
    {
     "name": "stdin",
     "output_type": "stream",
     "text": [
      "Please provide the length in Mtr 100\n",
      "Please provide the Width in Mtr 50\n"
     ]
    },
    {
     "name": "stdout",
     "output_type": "stream",
     "text": [
      "The area of Section 1 of Store is 5000 Sq Mtr\n"
     ]
    }
   ],
   "source": [
    "#Creating a function that calculates the area of a section of the store based on length and width.\n",
    "L=int(input('Please provide the length in Mtr'))\n",
    "W=int(input('Please provide the Width in Mtr'))\n",
    "A=L*W\n",
    "print(f\"The area of Section 1 of Store is {A} Sq Mtr\")"
   ]
  },
  {
   "cell_type": "code",
   "execution_count": 135,
   "id": "aac11b47-2fb2-4863-affa-d6bea831b724",
   "metadata": {},
   "outputs": [],
   "source": [
    "#Task 8: Customer Feedback Analysis"
   ]
  },
  {
   "cell_type": "code",
   "execution_count": 143,
   "id": "3c0e2ed3-71e8-4aa3-ba89-da046fb796c3",
   "metadata": {},
   "outputs": [],
   "source": [
    "from collections import Counter"
   ]
  },
  {
   "cell_type": "code",
   "execution_count": 184,
   "id": "dc152889-e58a-470c-8fbc-17fc54eb2838",
   "metadata": {},
   "outputs": [
    {
     "name": "stdout",
     "output_type": "stream",
     "text": [
      "Customer Feedback Analysis:\n",
      "Original Feedback: What a friendly service and great staff.Must reccommend\n",
      "Number of Vowels: 15\n",
      "Reversed Feedback: dnemmoccer tsuM.ffats taerg dna ecivres yldneirf a tahW\n"
     ]
    }
   ],
   "source": [
    "#Customer feed back message\n",
    "Feedback=\"What a friendly service and great staff.Must reccommend\"\n",
    "\n",
    "#Analysing the number of vowels in the feedback message using counter.\n",
    "#all the letters should be converted to lower case so that vowels can be compared\n",
    "#have to use sum functions to calculate the sum of values in Vowel_Count\n",
    "V=\"aeiou\"\n",
    "Vowel_Count=Counter(i for i in Feedback.lower() if i in V)\n",
    "print(\"Customer Feedback Analysis:\")\n",
    "print(\"Original Feedback:\",Feedback)\n",
    "print(\"Number of Vowels:\",sum(Vowel_Count.values()))\n",
    "\n",
    "#to get the feedback in reverse order we can use slicing by ommitting start,stop and using step-1 to start slicing in reverse order\n",
    "print(\"Reversed Feedback:\",Feedback[::-1])"
   ]
  },
  {
   "cell_type": "code",
   "execution_count": 186,
   "id": "5d2e6284-4502-43e7-924a-673ac0608592",
   "metadata": {},
   "outputs": [],
   "source": [
    "#Task 9: Price Filtering Tool"
   ]
  },
  {
   "cell_type": "code",
   "execution_count": 194,
   "id": "23fd689a-719a-4ad1-871b-f13cccc020c4",
   "metadata": {},
   "outputs": [
    {
     "name": "stdout",
     "output_type": "stream",
     "text": [
      "Products eligible for the discount campaign: [1500, 1200, 450]\n"
     ]
    }
   ],
   "source": [
    "#using list comprehension to filter out products priced below ₹ 1800\n",
    "product_prices = [1500,8500,3000,1200,450,2000]\n",
    "Eligible_prod=[i for i in product_prices if i<1800]\n",
    "print(\"Products eligible for the discount campaign:\",Eligible_prod)\n"
   ]
  },
  {
   "cell_type": "code",
   "execution_count": 196,
   "id": "4a71263e-c978-4f55-a8d0-d9b0363cdd8f",
   "metadata": {},
   "outputs": [],
   "source": [
    "# Task 10: Sales Log File Management"
   ]
  },
  {
   "cell_type": "code",
   "execution_count": 208,
   "id": "cd539aec-04a1-4b51-91cc-ee00fdcf496e",
   "metadata": {},
   "outputs": [
    {
     "name": "stdout",
     "output_type": "stream",
     "text": [
      "Content of 'sales_log.txt:\n",
      " The Total Sales for the day ended 12/02/2025: Rs25 Cr\n",
      "Total transactions enterd for the day totaled to 500\n",
      "\n"
     ]
    }
   ],
   "source": [
    "#Creating a text file named `sales_log.txt` to store daily sales summaries\n",
    "with open(\"sales_log.txt\",\"w\") as Text:\n",
    "    Text.write(\"The Total Sales for the day ended 12/02/2025: Rs25 Cr\\n\")\n",
    "    Text.write(\"Total transactions enterd for the day totaled to 500\\n\")\n",
    "\n",
    "#Read and print the content of the file\n",
    "with open(\"sales_log.txt\",\"r\") as Text:\n",
    "    print( \"Content of 'sales_log.txt:\\n\",Text.read())\n"
   ]
  },
  {
   "cell_type": "code",
   "execution_count": 1,
   "id": "b61a3746-6346-4abc-9c37-72e07ff63b47",
   "metadata": {},
   "outputs": [],
   "source": [
    "#Task 11: Daily Sales Average"
   ]
  },
  {
   "cell_type": "code",
   "execution_count": 13,
   "id": "6745fce7-0af3-45e5-b90c-38732d4e82b7",
   "metadata": {},
   "outputs": [
    {
     "name": "stdout",
     "output_type": "stream",
     "text": [
      " Average Daily Sales for the Past Week: $6357.142857142857\n"
     ]
    }
   ],
   "source": [
    "#sales figure for the last seven days\n",
    "daily_sales= [12000, 15000, 11000, 1800, 1700, 1600, 1400]\n",
    "\n",
    "#To take average we have to divide the sum of daily sales by total no of Days\n",
    "S=sum(daily_sales) # sum of daily sales\n",
    "N=len(daily_sales) #Total no: of days\n",
    "A=S/N # taking the average\n",
    "print(f\" Average Daily Sales for the Past Week: ${A}\") #printing the average\n"
   ]
  },
  {
   "cell_type": "code",
   "execution_count": 15,
   "id": "0c789ae1-ae0b-4680-a4a8-30c56fae0c8d",
   "metadata": {},
   "outputs": [],
   "source": [
    "# Task 12: Customer Segmentation"
   ]
  },
  {
   "cell_type": "code",
   "execution_count": 33,
   "id": "fa2dd86a-a912-4554-baa3-f4da1b12e093",
   "metadata": {},
   "outputs": [
    {
     "name": "stdout",
     "output_type": "stream",
     "text": [
      "Customer spending Categories:\n",
      "Customer1:Spending= $2000->Category:low\n",
      "Customer2:Spending= $8000->Category:Medium\n",
      "Customer3:Spending= $15000->Category:High\n",
      "Customer4:Spending= $30000->Category:High\n",
      "Customer5:Spending= $4500->Category:low\n",
      "Customer6:Spending= $12000->Category:High\n"
     ]
    }
   ],
   "source": [
    "#Customer spendings\n",
    "Customer_Spendings=[2000, 8000, 15000, 30000, 4500, 12000]\n",
    "\n",
    "#applying the criteria on spendings using lambda function\n",
    "Categorization_Criteria=list(map(lambda i:\"low\"if i<5000 else \"Medium\" if i>=5000 and i<10000 else\"High\",Customer_Spendings))\n",
    "\n",
    "#printing the desired output\n",
    "print (\"Customer spending Categories:\")\n",
    "for x,(y,z) in enumerate(zip(Customer_Spendings,Categorization_Criteria),1):\n",
    "    print(f\"Customer{x}:Spending= ${y}->Category:{z}\")\n"
   ]
  },
  {
   "cell_type": "code",
   "execution_count": 35,
   "id": "22a32ef1-4135-4213-a44a-08f7befbc302",
   "metadata": {},
   "outputs": [],
   "source": [
    "# Task 13: Discount Calculation"
   ]
  },
  {
   "cell_type": "code",
   "execution_count": 45,
   "id": "0e23d037-99a4-43b9-b8c9-0ebf9e268479",
   "metadata": {},
   "outputs": [
    {
     "name": "stdout",
     "output_type": "stream",
     "text": [
      "Final Prices After Discounts:\n",
      "Product1:Original price=$1000,Discount=20%,Final Price=$800.0\n",
      "Product2:Original price=$2500,Discount=30%,Final Price=$1750.0\n",
      "Product3:Original price=$75,Discount=15%,Final Price=$63.75\n",
      "Product4:Original price=$150,Discount=5%,Final Price=$142.5\n"
     ]
    }
   ],
   "source": [
    "#List of Products\n",
    "products= [ {\"name\": \"Product A\", \"original_price\": 1000, \"discount_percentage\": 20}, {\"name\": \"Product B\", \"original_price\": 2500, \"discount_percentage\": 30}, {\"name\": \"Product C\", \"original_price\": 75, \"discount_percentage\": 15}, {\"name\": \"Product D\", \"original_price\": 150, \"discount_percentage\": 5} ]\n",
    "\n",
    "#calculation of discount% and printing the out put in Loop\n",
    "#using indexing to print product Number and acessing the each dictionery in product list.\n",
    "print(\"Final Prices After Discounts:\")\n",
    "for i,j in enumerate(products,start=1):\n",
    "    Final_price=j[\"original_price\"]-(j[\"original_price\"]*(j[\"discount_percentage\"]/100))\n",
    "    print(f\"Product{i}:Original price=${j[\"original_price\"]},Discount={j[\"discount_percentage\"]}%,Final Price=${Final_price}\")\n"
   ]
  },
  {
   "cell_type": "code",
   "execution_count": 43,
   "id": "0f9ea522-f865-4317-b11f-c670b7bcc33e",
   "metadata": {},
   "outputs": [],
   "source": [
    "# Task 14: Customer Feedback Sentiment Analysis"
   ]
  },
  {
   "cell_type": "code",
   "execution_count": 61,
   "id": "fcaf24f8-5eb9-4bf4-b4d6-227b19c3fcc7",
   "metadata": {},
   "outputs": [
    {
     "name": "stdout",
     "output_type": "stream",
     "text": [
      "Customer Feedback Sentiment: Positive\n"
     ]
    }
   ],
   "source": [
    "Customer_Feedback=\"The service was Good. It was a happy experience!\"\n",
    "#set is used to avoid duplication\n",
    "Positive={\"good\", \"happy\", \"excellent\", \"great\"}\n",
    "Negative={\"bad\", \"disappointed\", \"poor\", \"terrible\"}\n",
    "\n",
    "#we have to split the words and convert it into lowercase for comparison\n",
    "Splitted_text=set(Customer_Feedback.lower().split())\n",
    "\n",
    "#Check is done using intersection function\"&\"\n",
    "if Splitted_text & Positive:\n",
    "    print(\"Customer Feedback Sentiment: Positive\")\n",
    "else:\n",
    "    print(\"Customer Feedback Sentiment: Negative\")"
   ]
  },
  {
   "cell_type": "code",
   "execution_count": 63,
   "id": "2bb6bdb0-907e-439c-bdfb-8f7e9ba764b1",
   "metadata": {},
   "outputs": [],
   "source": [
    "#Task 15: Employee Salary Increment Calculator"
   ]
  },
  {
   "cell_type": "code",
   "execution_count": 69,
   "id": "6bff6139-da84-40b7-bb36-05a6fecface3",
   "metadata": {},
   "outputs": [
    {
     "name": "stdout",
     "output_type": "stream",
     "text": [
      "Updated Salaries After Increment:\n",
      "Alice: Previous Salary = $500000, Performance = Excellent, New Salary = $600000.0\n",
      "Bob: Previous Salary = $400000, Performance = Good, New Salary = $460000.0\n",
      "Charlie: Previous Salary = $45000, Performance = Average, New Salary = $49500.0\n",
      "David: Previous Salary = $35000, Performance = Poor, New Salary = $36750.0\n"
     ]
    }
   ],
   "source": [
    "#Employee salary and rating \n",
    "staff_records = [{\"name\": \"Alice\", \"salary\": 500000, \"rating\": \"Excellent\"},{\"name\": \"Bob\", \"salary\": 400000, \"rating\": \"Good\"},{\"name\": \"Charlie\", \"salary\": 45000, \"rating\": \"Average\"},{\"name\": \"David\", \"salary\": 35000, \"rating\": \"Poor\"}]\n",
    "\n",
    "# Calculating increment based on rates\n",
    "increment_rates = [(\"Excellent\", 20),(\"Good\", 15),(\"Average\", 10),(\"Poor\", 5)]\n",
    "\n",
    "#printing the first line without coming into loop\n",
    "\n",
    "print(\"Updated Salaries After Increment:\")\n",
    "\n",
    "#providing a for loop and accessing value through keys in dictionary\n",
    "\n",
    "for i in staff_records:\n",
    "    name=i[\"name\"]\n",
    "    current_salary=i[\"salary\"]\n",
    "    rating=i[\"rating\"]\n",
    "\n",
    "# Determine increment percentage\n",
    "    if rating==\"Excellent\":\n",
    "        increment_percentage=20\n",
    "    elif rating==\"Good\":\n",
    "        increment_percentage=15\n",
    "    elif rating==\"Average\":\n",
    "        increment_percentage=10\n",
    "    elif rating==\"Poor\":\n",
    "        increment_percentage=5\n",
    "    else:\n",
    "        increment_percentage=0\n",
    "# Calculating salary increase\n",
    "    increment_amount=(increment_percentage/100)*current_salary\n",
    "    new_salary=round(current_salary+increment_amount,2)\n",
    "    print(f\"{name}: Previous Salary = ${current_salary}, Performance = {rating}, New Salary = ${new_salary}\")\n"
   ]
  },
  {
   "cell_type": "code",
   "execution_count": 71,
   "id": "e7cf3f67-9b10-4853-852d-820dcafb721f",
   "metadata": {},
   "outputs": [],
   "source": [
    "#Task 16: Monthly Sales Report Generator"
   ]
  },
  {
   "cell_type": "code",
   "execution_count": 91,
   "id": "1680c6b1-9d77-4a6b-9a94-8b83531091c0",
   "metadata": {},
   "outputs": [
    {
     "name": "stdout",
     "output_type": "stream",
     "text": [
      "Monthly Sales Report\n",
      "---------------------\n",
      "Total Sales: $10600\n",
      "Average Daily Sales: $341.94\n",
      "\n"
     ]
    }
   ],
   "source": [
    "# List of daily sales\n",
    "daily_sales=[200, 250, 300, 400, 350, 500, 450, 300, 250, 400, 200, 300, 450, 500, 400, 250, 350, 300, 450, 400, 250, 300, 200, 400, 350, 300, 500, 450, 300, 250,300]\n",
    "\n",
    "# Calculation of total and average sales\n",
    "Tot_sales=sum(daily_sales)\n",
    "Avg_sales=Tot_sales/len(daily_sales)\n",
    "\n",
    "# Generating the report content\n",
    "Sales_rep= (\"Monthly Sales Report\\n\"\"---------------------\\n\"f\"Total Sales: ${Tot_sales}\\n\"f\"Average Daily Sales: ${Avg_sales:.2f}\\n\")\n",
    "\n",
    "# Writing the report to a text file\n",
    "with open(\"monthly_report.txt\",\"w\") as file:\n",
    "    file.write(Sales_rep)\n",
    "with open(\"monthly_report.txt\",\"r\") as file:\n",
    "    Content=file.read()\n",
    "    print(Content)"
   ]
  },
  {
   "cell_type": "code",
   "execution_count": 93,
   "id": "b0210e63-6541-4eb7-be83-25c749afc9fe",
   "metadata": {},
   "outputs": [],
   "source": [
    "# Task 17: Stock Replenishment Planning"
   ]
  },
  {
   "cell_type": "code",
   "execution_count": 109,
   "id": "df5a931b-dca3-4db7-af78-06394ba3f903",
   "metadata": {},
   "outputs": [
    {
     "name": "stdout",
     "output_type": "stream",
     "text": [
      "Products that need replenishment:\n",
      "\n",
      "Product C\n",
      "Product E\n"
     ]
    }
   ],
   "source": [
    "#List of products\n",
    "products=[{\"product_name\":\"Product A\",\"stock\":50},{\"product_name\":\"Product B\",\"stock\": 150},{\"product_name\":\"Product C\",\"stock\": 30},{\"product_name\":\"Product D\",\"stock\":75},{\"product_name\":\"Product E\",\"stock\":20}]\n",
    "\n",
    "#threshold for replenishment\n",
    "Thre_repl=40\n",
    "\n",
    "#Finding out products that require stock replenishment\n",
    "print(\"Products that need replenishment:\\n\")\n",
    "\n",
    "for i in products:\n",
    "    if i[\"stock\"]<Thre_repl:\n",
    "        print(i[\"product_name\"])\n"
   ]
  },
  {
   "cell_type": "code",
   "execution_count": 111,
   "id": "9c299d86-86d5-43a2-9573-9021af5f2ce5",
   "metadata": {},
   "outputs": [],
   "source": [
    "#Task 18: Data Cleaning Utility"
   ]
  },
  {
   "cell_type": "code",
   "execution_count": 123,
   "id": "fb9c9655-08ea-4d9f-be57-29ae29902d86",
   "metadata": {},
   "outputs": [
    {
     "name": "stdout",
     "output_type": "stream",
     "text": [
      "Cleaned Customer Names for Database Entry:\n",
      "\n",
      "John Doe\n",
      "Mary Smith\n",
      "Alice Johnson\n",
      "Bob White\n"
     ]
    }
   ],
   "source": [
    "#Customer names \n",
    "Names=[\"john doe\",\"MARY SMITH\",\"aLICE JOHNSON\",\"bOB WHITE\"]\n",
    "\n",
    "# Format names\n",
    "Upd_name=[i.strip().title() for i in Names]\n",
    "\n",
    "# Printing names\n",
    "print(\"Cleaned Customer Names for Database Entry:\\n\")\n",
    "for i in Upd_name:\n",
    "    print(i)\n"
   ]
  },
  {
   "cell_type": "code",
   "execution_count": 125,
   "id": "0b86d30e-00a6-45c7-ba33-d9d8b1d63735",
   "metadata": {},
   "outputs": [],
   "source": [
    "# Task 19: Simple Sales Forecasting"
   ]
  },
  {
   "cell_type": "code",
   "execution_count": 127,
   "id": "e84cf527-2c24-4dc1-a41e-f0e8c6cf63eb",
   "metadata": {},
   "outputs": [
    {
     "name": "stdout",
     "output_type": "stream",
     "text": [
      "Forecasted Sales for Next Month: $22333.333333333332\n"
     ]
    }
   ],
   "source": [
    "#sales data\n",
    "sales=[20000, 22000, 25000]\n",
    "\n",
    "#Forecasting\n",
    "forecasted_sales=sum(sales)/len(sales)\n",
    "print(f\"Forecasted Sales for Next Month: ${forecasted_sales}\")\n"
   ]
  },
  {
   "cell_type": "code",
   "execution_count": 129,
   "id": "82de3f49-683f-4e95-a036-57d06f31e039",
   "metadata": {},
   "outputs": [],
   "source": [
    "# Task 20: Customer Loyalty Points Calculator\n",
    "\n",
    " "
   ]
  },
  {
   "cell_type": "code",
   "execution_count": 133,
   "id": "0eaebe22-39d7-4768-a26f-3f0b3ef9a258",
   "metadata": {},
   "outputs": [
    {
     "name": "stdout",
     "output_type": "stream",
     "text": [
      "Customer Loyalty Points:\n",
      "\n",
      "John Doe: $250 Purchase, Loyalty Points: 375.0\n",
      "Jane Smith: $500 Purchase, Loyalty Points: 1000\n",
      "Alice Johnson: $1000 Purchase, Loyalty Points: 2000\n",
      "Bob White: $150 Purchase, Loyalty Points: 150\n"
     ]
    }
   ],
   "source": [
    "#List of customers and their total purchases\n",
    "customers = [{\"name\": \"John Doe\", \"purchase\": 250},{\"name\": \"Jane Smith\", \"purchase\": 500},{\"name\": \"Alice Johnson\", \"purchase\": 1000},{\"name\": \"Bob White\", \"purchase\": 150}]\n",
    "\n",
    "#Printing header\n",
    "print(\"Customer Loyalty Points:\\n\")\n",
    "\n",
    "#Calculating loyalty points\n",
    "for i in customers:\n",
    "    purchase=i[\"purchase\"]\n",
    "\n",
    "    #multipliers applying\n",
    "    if purchase>=500:\n",
    "        points=purchase*2  \n",
    "    elif purchase>=250:\n",
    "        points=purchase*1.5  \n",
    "    else:\n",
    "        points=purchase*1  \n",
    "\n",
    "    print(f\"{i['name']}: ${purchase} Purchase, Loyalty Points: {points}\")\n"
   ]
  },
  {
   "cell_type": "code",
   "execution_count": null,
   "id": "b506b328-2865-4c50-a2da-fe675f276842",
   "metadata": {},
   "outputs": [],
   "source": []
  }
 ],
 "metadata": {
  "kernelspec": {
   "display_name": "Python [conda env:base] *",
   "language": "python",
   "name": "conda-base-py"
  },
  "language_info": {
   "codemirror_mode": {
    "name": "ipython",
    "version": 3
   },
   "file_extension": ".py",
   "mimetype": "text/x-python",
   "name": "python",
   "nbconvert_exporter": "python",
   "pygments_lexer": "ipython3",
   "version": "3.12.7"
  }
 },
 "nbformat": 4,
 "nbformat_minor": 5
}
